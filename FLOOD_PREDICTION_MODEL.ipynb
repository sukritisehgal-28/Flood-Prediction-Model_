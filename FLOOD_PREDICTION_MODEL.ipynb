{
  "nbformat": 4,
  "nbformat_minor": 0,
  "metadata": {
    "colab": {
      "provenance": []
    },
    "kernelspec": {
      "name": "python3",
      "display_name": "Python 3"
    },
    "language_info": {
      "name": "python"
    }
  },
  "cells": [
    {
      "cell_type": "code",
      "execution_count": null,
      "metadata": {
        "id": "YFlx2cWBNPyB"
      },
      "outputs": [],
      "source": [
        "import numpy as np\n",
        "import pandas as pd"
      ]
    },
    {
      "cell_type": "code",
      "source": [
        "data = pd.read_csv('RAINFALL_DATA_ASSAM.csv');\n",
        "data.head()"
      ],
      "metadata": {
        "colab": {
          "base_uri": "https://localhost:8080/",
          "height": 267
        },
        "id": "CpldQI_aatTF",
        "outputId": "8b4abdef-a1a4-4bb4-fc0a-655d80d5e019"
      },
      "execution_count": null,
      "outputs": [
        {
          "output_type": "execute_result",
          "data": {
            "text/plain": [
              "  SUBDIVISION  YEAR   JAN   FEB  MARCH    APR    MAY    JUN    JUL    AUG  \\\n",
              "0       ASSAM  1901  27.1  19.5   30.6  223.0  207.0  524.9  430.6  464.1   \n",
              "1       ASSAM  1902   9.3  10.2  105.6  350.0  262.1  620.7  510.8  536.0   \n",
              "2       ASSAM  1903  19.9  25.4  103.6  140.6  206.6  607.4  362.7  551.9   \n",
              "3       ASSAM  1904  11.1  56.1   51.9  457.1  375.2  385.7  477.6  438.8   \n",
              "4       ASSAM  1905  19.9  16.9  137.9  213.0  275.5  521.7  439.1  649.1   \n",
              "\n",
              "     SEP    OCT    NOV   DEC  ANNUAL FLOOD FLOODS  \n",
              "0  291.4  163.7  115.6   1.2        2498.6     NO  \n",
              "1  441.3   97.0    7.8   1.3        2952.1    YES  \n",
              "2  306.4  159.5   59.3   1.3        2544.7    YES  \n",
              "3  245.9  115.9   46.4   2.5        2664.1    YES  \n",
              "4  276.0  200.0   16.8  24.8        2790.6    YES  "
            ],
            "text/html": [
              "\n",
              "  <div id=\"df-cd2dfba3-b6d3-4978-8cef-958c6e8e560e\">\n",
              "    <div class=\"colab-df-container\">\n",
              "      <div>\n",
              "<style scoped>\n",
              "    .dataframe tbody tr th:only-of-type {\n",
              "        vertical-align: middle;\n",
              "    }\n",
              "\n",
              "    .dataframe tbody tr th {\n",
              "        vertical-align: top;\n",
              "    }\n",
              "\n",
              "    .dataframe thead th {\n",
              "        text-align: right;\n",
              "    }\n",
              "</style>\n",
              "<table border=\"1\" class=\"dataframe\">\n",
              "  <thead>\n",
              "    <tr style=\"text-align: right;\">\n",
              "      <th></th>\n",
              "      <th>SUBDIVISION</th>\n",
              "      <th>YEAR</th>\n",
              "      <th>JAN</th>\n",
              "      <th>FEB</th>\n",
              "      <th>MARCH</th>\n",
              "      <th>APR</th>\n",
              "      <th>MAY</th>\n",
              "      <th>JUN</th>\n",
              "      <th>JUL</th>\n",
              "      <th>AUG</th>\n",
              "      <th>SEP</th>\n",
              "      <th>OCT</th>\n",
              "      <th>NOV</th>\n",
              "      <th>DEC</th>\n",
              "      <th>ANNUAL FLOOD</th>\n",
              "      <th>FLOODS</th>\n",
              "    </tr>\n",
              "  </thead>\n",
              "  <tbody>\n",
              "    <tr>\n",
              "      <th>0</th>\n",
              "      <td>ASSAM</td>\n",
              "      <td>1901</td>\n",
              "      <td>27.1</td>\n",
              "      <td>19.5</td>\n",
              "      <td>30.6</td>\n",
              "      <td>223.0</td>\n",
              "      <td>207.0</td>\n",
              "      <td>524.9</td>\n",
              "      <td>430.6</td>\n",
              "      <td>464.1</td>\n",
              "      <td>291.4</td>\n",
              "      <td>163.7</td>\n",
              "      <td>115.6</td>\n",
              "      <td>1.2</td>\n",
              "      <td>2498.6</td>\n",
              "      <td>NO</td>\n",
              "    </tr>\n",
              "    <tr>\n",
              "      <th>1</th>\n",
              "      <td>ASSAM</td>\n",
              "      <td>1902</td>\n",
              "      <td>9.3</td>\n",
              "      <td>10.2</td>\n",
              "      <td>105.6</td>\n",
              "      <td>350.0</td>\n",
              "      <td>262.1</td>\n",
              "      <td>620.7</td>\n",
              "      <td>510.8</td>\n",
              "      <td>536.0</td>\n",
              "      <td>441.3</td>\n",
              "      <td>97.0</td>\n",
              "      <td>7.8</td>\n",
              "      <td>1.3</td>\n",
              "      <td>2952.1</td>\n",
              "      <td>YES</td>\n",
              "    </tr>\n",
              "    <tr>\n",
              "      <th>2</th>\n",
              "      <td>ASSAM</td>\n",
              "      <td>1903</td>\n",
              "      <td>19.9</td>\n",
              "      <td>25.4</td>\n",
              "      <td>103.6</td>\n",
              "      <td>140.6</td>\n",
              "      <td>206.6</td>\n",
              "      <td>607.4</td>\n",
              "      <td>362.7</td>\n",
              "      <td>551.9</td>\n",
              "      <td>306.4</td>\n",
              "      <td>159.5</td>\n",
              "      <td>59.3</td>\n",
              "      <td>1.3</td>\n",
              "      <td>2544.7</td>\n",
              "      <td>YES</td>\n",
              "    </tr>\n",
              "    <tr>\n",
              "      <th>3</th>\n",
              "      <td>ASSAM</td>\n",
              "      <td>1904</td>\n",
              "      <td>11.1</td>\n",
              "      <td>56.1</td>\n",
              "      <td>51.9</td>\n",
              "      <td>457.1</td>\n",
              "      <td>375.2</td>\n",
              "      <td>385.7</td>\n",
              "      <td>477.6</td>\n",
              "      <td>438.8</td>\n",
              "      <td>245.9</td>\n",
              "      <td>115.9</td>\n",
              "      <td>46.4</td>\n",
              "      <td>2.5</td>\n",
              "      <td>2664.1</td>\n",
              "      <td>YES</td>\n",
              "    </tr>\n",
              "    <tr>\n",
              "      <th>4</th>\n",
              "      <td>ASSAM</td>\n",
              "      <td>1905</td>\n",
              "      <td>19.9</td>\n",
              "      <td>16.9</td>\n",
              "      <td>137.9</td>\n",
              "      <td>213.0</td>\n",
              "      <td>275.5</td>\n",
              "      <td>521.7</td>\n",
              "      <td>439.1</td>\n",
              "      <td>649.1</td>\n",
              "      <td>276.0</td>\n",
              "      <td>200.0</td>\n",
              "      <td>16.8</td>\n",
              "      <td>24.8</td>\n",
              "      <td>2790.6</td>\n",
              "      <td>YES</td>\n",
              "    </tr>\n",
              "  </tbody>\n",
              "</table>\n",
              "</div>\n",
              "      <button class=\"colab-df-convert\" onclick=\"convertToInteractive('df-cd2dfba3-b6d3-4978-8cef-958c6e8e560e')\"\n",
              "              title=\"Convert this dataframe to an interactive table.\"\n",
              "              style=\"display:none;\">\n",
              "        \n",
              "  <svg xmlns=\"http://www.w3.org/2000/svg\" height=\"24px\"viewBox=\"0 0 24 24\"\n",
              "       width=\"24px\">\n",
              "    <path d=\"M0 0h24v24H0V0z\" fill=\"none\"/>\n",
              "    <path d=\"M18.56 5.44l.94 2.06.94-2.06 2.06-.94-2.06-.94-.94-2.06-.94 2.06-2.06.94zm-11 1L8.5 8.5l.94-2.06 2.06-.94-2.06-.94L8.5 2.5l-.94 2.06-2.06.94zm10 10l.94 2.06.94-2.06 2.06-.94-2.06-.94-.94-2.06-.94 2.06-2.06.94z\"/><path d=\"M17.41 7.96l-1.37-1.37c-.4-.4-.92-.59-1.43-.59-.52 0-1.04.2-1.43.59L10.3 9.45l-7.72 7.72c-.78.78-.78 2.05 0 2.83L4 21.41c.39.39.9.59 1.41.59.51 0 1.02-.2 1.41-.59l7.78-7.78 2.81-2.81c.8-.78.8-2.07 0-2.86zM5.41 20L4 18.59l7.72-7.72 1.47 1.35L5.41 20z\"/>\n",
              "  </svg>\n",
              "      </button>\n",
              "      \n",
              "  <style>\n",
              "    .colab-df-container {\n",
              "      display:flex;\n",
              "      flex-wrap:wrap;\n",
              "      gap: 12px;\n",
              "    }\n",
              "\n",
              "    .colab-df-convert {\n",
              "      background-color: #E8F0FE;\n",
              "      border: none;\n",
              "      border-radius: 50%;\n",
              "      cursor: pointer;\n",
              "      display: none;\n",
              "      fill: #1967D2;\n",
              "      height: 32px;\n",
              "      padding: 0 0 0 0;\n",
              "      width: 32px;\n",
              "    }\n",
              "\n",
              "    .colab-df-convert:hover {\n",
              "      background-color: #E2EBFA;\n",
              "      box-shadow: 0px 1px 2px rgba(60, 64, 67, 0.3), 0px 1px 3px 1px rgba(60, 64, 67, 0.15);\n",
              "      fill: #174EA6;\n",
              "    }\n",
              "\n",
              "    [theme=dark] .colab-df-convert {\n",
              "      background-color: #3B4455;\n",
              "      fill: #D2E3FC;\n",
              "    }\n",
              "\n",
              "    [theme=dark] .colab-df-convert:hover {\n",
              "      background-color: #434B5C;\n",
              "      box-shadow: 0px 1px 3px 1px rgba(0, 0, 0, 0.15);\n",
              "      filter: drop-shadow(0px 1px 2px rgba(0, 0, 0, 0.3));\n",
              "      fill: #FFFFFF;\n",
              "    }\n",
              "  </style>\n",
              "\n",
              "      <script>\n",
              "        const buttonEl =\n",
              "          document.querySelector('#df-cd2dfba3-b6d3-4978-8cef-958c6e8e560e button.colab-df-convert');\n",
              "        buttonEl.style.display =\n",
              "          google.colab.kernel.accessAllowed ? 'block' : 'none';\n",
              "\n",
              "        async function convertToInteractive(key) {\n",
              "          const element = document.querySelector('#df-cd2dfba3-b6d3-4978-8cef-958c6e8e560e');\n",
              "          const dataTable =\n",
              "            await google.colab.kernel.invokeFunction('convertToInteractive',\n",
              "                                                     [key], {});\n",
              "          if (!dataTable) return;\n",
              "\n",
              "          const docLinkHtml = 'Like what you see? Visit the ' +\n",
              "            '<a target=\"_blank\" href=https://colab.research.google.com/notebooks/data_table.ipynb>data table notebook</a>'\n",
              "            + ' to learn more about interactive tables.';\n",
              "          element.innerHTML = '';\n",
              "          dataTable['output_type'] = 'display_data';\n",
              "          await google.colab.output.renderOutput(dataTable, element);\n",
              "          const docLink = document.createElement('div');\n",
              "          docLink.innerHTML = docLinkHtml;\n",
              "          element.appendChild(docLink);\n",
              "        }\n",
              "      </script>\n",
              "    </div>\n",
              "  </div>\n",
              "  "
            ]
          },
          "metadata": {},
          "execution_count": 20
        }
      ]
    },
    {
      "cell_type": "code",
      "source": [
        "data.apply(lambda x:sum(x.isnull()), axis=0)"
      ],
      "metadata": {
        "colab": {
          "base_uri": "https://localhost:8080/"
        },
        "id": "_5x58OjOcWdU",
        "outputId": "6839f10f-06b3-49db-9364-2e285059638d"
      },
      "execution_count": null,
      "outputs": [
        {
          "output_type": "execute_result",
          "data": {
            "text/plain": [
              "SUBDIVISION     0\n",
              "YEAR            0\n",
              "JAN             0\n",
              "FEB             0\n",
              "MARCH           0\n",
              "APR             0\n",
              "MAY             0\n",
              "JUN             0\n",
              "JUL             0\n",
              "AUG             0\n",
              "SEP             0\n",
              "OCT             0\n",
              "NOV             0\n",
              "DEC             0\n",
              "ANNUAL FLOOD    0\n",
              "FLOODS          0\n",
              "dtype: int64"
            ]
          },
          "metadata": {},
          "execution_count": 21
        }
      ]
    },
    {
      "cell_type": "code",
      "source": [
        "data['FLOODS'].replace(['YES','NO'],[1,0],inplace=True)"
      ],
      "metadata": {
        "id": "leStFzQH7xcr"
      },
      "execution_count": null,
      "outputs": []
    },
    {
      "cell_type": "code",
      "source": [
        "x = data.iloc[:,1:14]\n",
        "x.head()"
      ],
      "metadata": {
        "colab": {
          "base_uri": "https://localhost:8080/",
          "height": 206
        },
        "id": "9SHIYsL1eDTG",
        "outputId": "15d9a229-39ec-467e-fd29-ae2c50adf444"
      },
      "execution_count": null,
      "outputs": [
        {
          "output_type": "execute_result",
          "data": {
            "text/plain": [
              "   YEAR   JAN   FEB  MARCH    APR    MAY    JUN    JUL    AUG    SEP    OCT  \\\n",
              "0  1901  27.1  19.5   30.6  223.0  207.0  524.9  430.6  464.1  291.4  163.7   \n",
              "1  1902   9.3  10.2  105.6  350.0  262.1  620.7  510.8  536.0  441.3   97.0   \n",
              "2  1903  19.9  25.4  103.6  140.6  206.6  607.4  362.7  551.9  306.4  159.5   \n",
              "3  1904  11.1  56.1   51.9  457.1  375.2  385.7  477.6  438.8  245.9  115.9   \n",
              "4  1905  19.9  16.9  137.9  213.0  275.5  521.7  439.1  649.1  276.0  200.0   \n",
              "\n",
              "     NOV   DEC  \n",
              "0  115.6   1.2  \n",
              "1    7.8   1.3  \n",
              "2   59.3   1.3  \n",
              "3   46.4   2.5  \n",
              "4   16.8  24.8  "
            ],
            "text/html": [
              "\n",
              "  <div id=\"df-678a401e-3121-4eff-9d39-0217021a75ae\">\n",
              "    <div class=\"colab-df-container\">\n",
              "      <div>\n",
              "<style scoped>\n",
              "    .dataframe tbody tr th:only-of-type {\n",
              "        vertical-align: middle;\n",
              "    }\n",
              "\n",
              "    .dataframe tbody tr th {\n",
              "        vertical-align: top;\n",
              "    }\n",
              "\n",
              "    .dataframe thead th {\n",
              "        text-align: right;\n",
              "    }\n",
              "</style>\n",
              "<table border=\"1\" class=\"dataframe\">\n",
              "  <thead>\n",
              "    <tr style=\"text-align: right;\">\n",
              "      <th></th>\n",
              "      <th>YEAR</th>\n",
              "      <th>JAN</th>\n",
              "      <th>FEB</th>\n",
              "      <th>MARCH</th>\n",
              "      <th>APR</th>\n",
              "      <th>MAY</th>\n",
              "      <th>JUN</th>\n",
              "      <th>JUL</th>\n",
              "      <th>AUG</th>\n",
              "      <th>SEP</th>\n",
              "      <th>OCT</th>\n",
              "      <th>NOV</th>\n",
              "      <th>DEC</th>\n",
              "    </tr>\n",
              "  </thead>\n",
              "  <tbody>\n",
              "    <tr>\n",
              "      <th>0</th>\n",
              "      <td>1901</td>\n",
              "      <td>27.1</td>\n",
              "      <td>19.5</td>\n",
              "      <td>30.6</td>\n",
              "      <td>223.0</td>\n",
              "      <td>207.0</td>\n",
              "      <td>524.9</td>\n",
              "      <td>430.6</td>\n",
              "      <td>464.1</td>\n",
              "      <td>291.4</td>\n",
              "      <td>163.7</td>\n",
              "      <td>115.6</td>\n",
              "      <td>1.2</td>\n",
              "    </tr>\n",
              "    <tr>\n",
              "      <th>1</th>\n",
              "      <td>1902</td>\n",
              "      <td>9.3</td>\n",
              "      <td>10.2</td>\n",
              "      <td>105.6</td>\n",
              "      <td>350.0</td>\n",
              "      <td>262.1</td>\n",
              "      <td>620.7</td>\n",
              "      <td>510.8</td>\n",
              "      <td>536.0</td>\n",
              "      <td>441.3</td>\n",
              "      <td>97.0</td>\n",
              "      <td>7.8</td>\n",
              "      <td>1.3</td>\n",
              "    </tr>\n",
              "    <tr>\n",
              "      <th>2</th>\n",
              "      <td>1903</td>\n",
              "      <td>19.9</td>\n",
              "      <td>25.4</td>\n",
              "      <td>103.6</td>\n",
              "      <td>140.6</td>\n",
              "      <td>206.6</td>\n",
              "      <td>607.4</td>\n",
              "      <td>362.7</td>\n",
              "      <td>551.9</td>\n",
              "      <td>306.4</td>\n",
              "      <td>159.5</td>\n",
              "      <td>59.3</td>\n",
              "      <td>1.3</td>\n",
              "    </tr>\n",
              "    <tr>\n",
              "      <th>3</th>\n",
              "      <td>1904</td>\n",
              "      <td>11.1</td>\n",
              "      <td>56.1</td>\n",
              "      <td>51.9</td>\n",
              "      <td>457.1</td>\n",
              "      <td>375.2</td>\n",
              "      <td>385.7</td>\n",
              "      <td>477.6</td>\n",
              "      <td>438.8</td>\n",
              "      <td>245.9</td>\n",
              "      <td>115.9</td>\n",
              "      <td>46.4</td>\n",
              "      <td>2.5</td>\n",
              "    </tr>\n",
              "    <tr>\n",
              "      <th>4</th>\n",
              "      <td>1905</td>\n",
              "      <td>19.9</td>\n",
              "      <td>16.9</td>\n",
              "      <td>137.9</td>\n",
              "      <td>213.0</td>\n",
              "      <td>275.5</td>\n",
              "      <td>521.7</td>\n",
              "      <td>439.1</td>\n",
              "      <td>649.1</td>\n",
              "      <td>276.0</td>\n",
              "      <td>200.0</td>\n",
              "      <td>16.8</td>\n",
              "      <td>24.8</td>\n",
              "    </tr>\n",
              "  </tbody>\n",
              "</table>\n",
              "</div>\n",
              "      <button class=\"colab-df-convert\" onclick=\"convertToInteractive('df-678a401e-3121-4eff-9d39-0217021a75ae')\"\n",
              "              title=\"Convert this dataframe to an interactive table.\"\n",
              "              style=\"display:none;\">\n",
              "        \n",
              "  <svg xmlns=\"http://www.w3.org/2000/svg\" height=\"24px\"viewBox=\"0 0 24 24\"\n",
              "       width=\"24px\">\n",
              "    <path d=\"M0 0h24v24H0V0z\" fill=\"none\"/>\n",
              "    <path d=\"M18.56 5.44l.94 2.06.94-2.06 2.06-.94-2.06-.94-.94-2.06-.94 2.06-2.06.94zm-11 1L8.5 8.5l.94-2.06 2.06-.94-2.06-.94L8.5 2.5l-.94 2.06-2.06.94zm10 10l.94 2.06.94-2.06 2.06-.94-2.06-.94-.94-2.06-.94 2.06-2.06.94z\"/><path d=\"M17.41 7.96l-1.37-1.37c-.4-.4-.92-.59-1.43-.59-.52 0-1.04.2-1.43.59L10.3 9.45l-7.72 7.72c-.78.78-.78 2.05 0 2.83L4 21.41c.39.39.9.59 1.41.59.51 0 1.02-.2 1.41-.59l7.78-7.78 2.81-2.81c.8-.78.8-2.07 0-2.86zM5.41 20L4 18.59l7.72-7.72 1.47 1.35L5.41 20z\"/>\n",
              "  </svg>\n",
              "      </button>\n",
              "      \n",
              "  <style>\n",
              "    .colab-df-container {\n",
              "      display:flex;\n",
              "      flex-wrap:wrap;\n",
              "      gap: 12px;\n",
              "    }\n",
              "\n",
              "    .colab-df-convert {\n",
              "      background-color: #E8F0FE;\n",
              "      border: none;\n",
              "      border-radius: 50%;\n",
              "      cursor: pointer;\n",
              "      display: none;\n",
              "      fill: #1967D2;\n",
              "      height: 32px;\n",
              "      padding: 0 0 0 0;\n",
              "      width: 32px;\n",
              "    }\n",
              "\n",
              "    .colab-df-convert:hover {\n",
              "      background-color: #E2EBFA;\n",
              "      box-shadow: 0px 1px 2px rgba(60, 64, 67, 0.3), 0px 1px 3px 1px rgba(60, 64, 67, 0.15);\n",
              "      fill: #174EA6;\n",
              "    }\n",
              "\n",
              "    [theme=dark] .colab-df-convert {\n",
              "      background-color: #3B4455;\n",
              "      fill: #D2E3FC;\n",
              "    }\n",
              "\n",
              "    [theme=dark] .colab-df-convert:hover {\n",
              "      background-color: #434B5C;\n",
              "      box-shadow: 0px 1px 3px 1px rgba(0, 0, 0, 0.15);\n",
              "      filter: drop-shadow(0px 1px 2px rgba(0, 0, 0, 0.3));\n",
              "      fill: #FFFFFF;\n",
              "    }\n",
              "  </style>\n",
              "\n",
              "      <script>\n",
              "        const buttonEl =\n",
              "          document.querySelector('#df-678a401e-3121-4eff-9d39-0217021a75ae button.colab-df-convert');\n",
              "        buttonEl.style.display =\n",
              "          google.colab.kernel.accessAllowed ? 'block' : 'none';\n",
              "\n",
              "        async function convertToInteractive(key) {\n",
              "          const element = document.querySelector('#df-678a401e-3121-4eff-9d39-0217021a75ae');\n",
              "          const dataTable =\n",
              "            await google.colab.kernel.invokeFunction('convertToInteractive',\n",
              "                                                     [key], {});\n",
              "          if (!dataTable) return;\n",
              "\n",
              "          const docLinkHtml = 'Like what you see? Visit the ' +\n",
              "            '<a target=\"_blank\" href=https://colab.research.google.com/notebooks/data_table.ipynb>data table notebook</a>'\n",
              "            + ' to learn more about interactive tables.';\n",
              "          element.innerHTML = '';\n",
              "          dataTable['output_type'] = 'display_data';\n",
              "          await google.colab.output.renderOutput(dataTable, element);\n",
              "          const docLink = document.createElement('div');\n",
              "          docLink.innerHTML = docLinkHtml;\n",
              "          element.appendChild(docLink);\n",
              "        }\n",
              "      </script>\n",
              "    </div>\n",
              "  </div>\n",
              "  "
            ]
          },
          "metadata": {},
          "execution_count": 23
        }
      ]
    },
    {
      "cell_type": "code",
      "source": [
        "y = data.iloc[:, -1]\n",
        "y.head()"
      ],
      "metadata": {
        "colab": {
          "base_uri": "https://localhost:8080/"
        },
        "id": "ToyKqXuTebb1",
        "outputId": "eb006188-1c02-4741-e295-f674eb6a4d4e"
      },
      "execution_count": null,
      "outputs": [
        {
          "output_type": "execute_result",
          "data": {
            "text/plain": [
              "0    0\n",
              "1    1\n",
              "2    1\n",
              "3    1\n",
              "4    1\n",
              "Name: FLOODS, dtype: int64"
            ]
          },
          "metadata": {},
          "execution_count": 24
        }
      ]
    },
    {
      "cell_type": "code",
      "source": [
        "import matplotlib.pyplot as plt\n",
        "%matplotlib inline\n",
        "c = data[['JAN','FEB','MARCH','APR','MAY','JUN','JUL','AUG','SEP','OCT','NOV','DEC']]\n",
        "c.hist()\n",
        "plt.show()"
      ],
      "metadata": {
        "colab": {
          "base_uri": "https://localhost:8080/",
          "height": 281
        },
        "id": "d4bS00URehH1",
        "outputId": "263e0b6e-789f-4471-973c-fbd93333ebcd"
      },
      "execution_count": null,
      "outputs": [
        {
          "output_type": "display_data",
          "data": {
            "text/plain": [
              "<Figure size 432x288 with 12 Axes>"
            ],
            "image/png": "[encoded data removed]"
          },
          "metadata": {
            "needs_background": "light"
          }
        }
      ]
    },
    {
      "cell_type": "code",
      "source": [
        "from sklearn import preprocessing\n",
        "minmax = preprocessing.MinMaxScaler(feature_range=(0,1))\n",
        "minmax.fit(x).transform(x)"
      ],
      "metadata": {
        "colab": {
          "base_uri": "https://localhost:8080/"
        },
        "id": "4YG7ZuMVfYM2",
        "outputId": "6dafe6fe-0372-49fb-e766-ee54ba171ff0"
      },
      "execution_count": null,
      "outputs": [
        {
          "output_type": "execute_result",
          "data": {
            "text/plain": [
              "array([[0.        , 0.3221957 , 0.19709544, ..., 0.42614708, 0.91024623,\n",
              "        0.02631579],\n",
              "       [0.00877193, 0.1097852 , 0.10062241, ..., 0.21653048, 0.05401112,\n",
              "        0.02850877],\n",
              "       [0.01754386, 0.23627685, 0.25829876, ..., 0.41294783, 0.46306593,\n",
              "        0.02850877],\n",
              "       ...,\n",
              "       [0.98245614, 0.01193317, 0.09439834, ..., 0.30861094, 0.        ,\n",
              "        0.04385965],\n",
              "       [0.99122807, 0.02267303, 0.28838174, ..., 0.02168448, 0.01588562,\n",
              "        0.00877193],\n",
              "       [1.        , 0.15871122, 0.15560166, ..., 0.10842238, 0.10325655,\n",
              "        0.33333333]])"
            ]
          },
          "metadata": {},
          "execution_count": 26
        }
      ]
    },
    {
      "cell_type": "code",
      "source": [
        "from sklearn import model_selection,neighbors\n",
        "from sklearn.model_selection import train_test_split\n",
        "x_train,x_test,y_train,y_test=train_test_split(x,y,test_size=0.2)"
      ],
      "metadata": {
        "id": "7fq7m9HkfjZ6"
      },
      "execution_count": null,
      "outputs": []
    },
    {
      "cell_type": "code",
      "source": [
        "x_train.head()"
      ],
      "metadata": {
        "colab": {
          "base_uri": "https://localhost:8080/",
          "height": 206
        },
        "id": "R7Sb1F3YfopA",
        "outputId": "344007d2-7555-435f-9cf4-d942920d8786"
      },
      "execution_count": null,
      "outputs": [
        {
          "output_type": "execute_result",
          "data": {
            "text/plain": [
              "     YEAR   JAN   FEB  MARCH    APR    MAY    JUN    JUL    AUG    SEP    OCT  \\\n",
              "16   1917  12.8  91.6   38.7  168.8  206.2  584.7  472.8  346.3  313.7  236.6   \n",
              "0    1901  27.1  19.5   30.6  223.0  207.0  524.9  430.6  464.1  291.4  163.7   \n",
              "20   1921  35.1  20.3  134.1  324.6  414.8  604.9  542.2  429.4  333.2  142.1   \n",
              "108  2009   7.9  11.6   44.9  134.9  246.5  321.1  426.3  533.8  192.3  135.9   \n",
              "88   1989  10.5  51.6   30.4  183.4  260.1  488.8  747.0  267.9  425.8  194.1   \n",
              "\n",
              "       NOV   DEC  \n",
              "16    46.4   1.4  \n",
              "0    115.6   1.2  \n",
              "20     8.5  10.3  \n",
              "108    9.0   4.0  \n",
              "88    16.2   6.5  "
            ],
            "text/html": [
              "\n",
              "  <div id=\"df-adbbfcf3-f634-46bc-8b6f-6d2324f97b13\">\n",
              "    <div class=\"colab-df-container\">\n",
              "      <div>\n",
              "<style scoped>\n",
              "    .dataframe tbody tr th:only-of-type {\n",
              "        vertical-align: middle;\n",
              "    }\n",
              "\n",
              "    .dataframe tbody tr th {\n",
              "        vertical-align: top;\n",
              "    }\n",
              "\n",
              "    .dataframe thead th {\n",
              "        text-align: right;\n",
              "    }\n",
              "</style>\n",
              "<table border=\"1\" class=\"dataframe\">\n",
              "  <thead>\n",
              "    <tr style=\"text-align: right;\">\n",
              "      <th></th>\n",
              "      <th>YEAR</th>\n",
              "      <th>JAN</th>\n",
              "      <th>FEB</th>\n",
              "      <th>MARCH</th>\n",
              "      <th>APR</th>\n",
              "      <th>MAY</th>\n",
              "      <th>JUN</th>\n",
              "      <th>JUL</th>\n",
              "      <th>AUG</th>\n",
              "      <th>SEP</th>\n",
              "      <th>OCT</th>\n",
              "      <th>NOV</th>\n",
              "      <th>DEC</th>\n",
              "    </tr>\n",
              "  </thead>\n",
              "  <tbody>\n",
              "    <tr>\n",
              "      <th>16</th>\n",
              "      <td>1917</td>\n",
              "      <td>12.8</td>\n",
              "      <td>91.6</td>\n",
              "      <td>38.7</td>\n",
              "      <td>168.8</td>\n",
              "      <td>206.2</td>\n",
              "      <td>584.7</td>\n",
              "      <td>472.8</td>\n",
              "      <td>346.3</td>\n",
              "      <td>313.7</td>\n",
              "      <td>236.6</td>\n",
              "      <td>46.4</td>\n",
              "      <td>1.4</td>\n",
              "    </tr>\n",
              "    <tr>\n",
              "      <th>0</th>\n",
              "      <td>1901</td>\n",
              "      <td>27.1</td>\n",
              "      <td>19.5</td>\n",
              "      <td>30.6</td>\n",
              "      <td>223.0</td>\n",
              "      <td>207.0</td>\n",
              "      <td>524.9</td>\n",
              "      <td>430.6</td>\n",
              "      <td>464.1</td>\n",
              "      <td>291.4</td>\n",
              "      <td>163.7</td>\n",
              "      <td>115.6</td>\n",
              "      <td>1.2</td>\n",
              "    </tr>\n",
              "    <tr>\n",
              "      <th>20</th>\n",
              "      <td>1921</td>\n",
              "      <td>35.1</td>\n",
              "      <td>20.3</td>\n",
              "      <td>134.1</td>\n",
              "      <td>324.6</td>\n",
              "      <td>414.8</td>\n",
              "      <td>604.9</td>\n",
              "      <td>542.2</td>\n",
              "      <td>429.4</td>\n",
              "      <td>333.2</td>\n",
              "      <td>142.1</td>\n",
              "      <td>8.5</td>\n",
              "      <td>10.3</td>\n",
              "    </tr>\n",
              "    <tr>\n",
              "      <th>108</th>\n",
              "      <td>2009</td>\n",
              "      <td>7.9</td>\n",
              "      <td>11.6</td>\n",
              "      <td>44.9</td>\n",
              "      <td>134.9</td>\n",
              "      <td>246.5</td>\n",
              "      <td>321.1</td>\n",
              "      <td>426.3</td>\n",
              "      <td>533.8</td>\n",
              "      <td>192.3</td>\n",
              "      <td>135.9</td>\n",
              "      <td>9.0</td>\n",
              "      <td>4.0</td>\n",
              "    </tr>\n",
              "    <tr>\n",
              "      <th>88</th>\n",
              "      <td>1989</td>\n",
              "      <td>10.5</td>\n",
              "      <td>51.6</td>\n",
              "      <td>30.4</td>\n",
              "      <td>183.4</td>\n",
              "      <td>260.1</td>\n",
              "      <td>488.8</td>\n",
              "      <td>747.0</td>\n",
              "      <td>267.9</td>\n",
              "      <td>425.8</td>\n",
              "      <td>194.1</td>\n",
              "      <td>16.2</td>\n",
              "      <td>6.5</td>\n",
              "    </tr>\n",
              "  </tbody>\n",
              "</table>\n",
              "</div>\n",
              "      <button class=\"colab-df-convert\" onclick=\"convertToInteractive('df-adbbfcf3-f634-46bc-8b6f-6d2324f97b13')\"\n",
              "              title=\"Convert this dataframe to an interactive table.\"\n",
              "              style=\"display:none;\">\n",
              "        \n",
              "  <svg xmlns=\"http://www.w3.org/2000/svg\" height=\"24px\"viewBox=\"0 0 24 24\"\n",
              "       width=\"24px\">\n",
              "    <path d=\"M0 0h24v24H0V0z\" fill=\"none\"/>\n",
              "    <path d=\"M18.56 5.44l.94 2.06.94-2.06 2.06-.94-2.06-.94-.94-2.06-.94 2.06-2.06.94zm-11 1L8.5 8.5l.94-2.06 2.06-.94-2.06-.94L8.5 2.5l-.94 2.06-2.06.94zm10 10l.94 2.06.94-2.06 2.06-.94-2.06-.94-.94-2.06-.94 2.06-2.06.94z\"/><path d=\"M17.41 7.96l-1.37-1.37c-.4-.4-.92-.59-1.43-.59-.52 0-1.04.2-1.43.59L10.3 9.45l-7.72 7.72c-.78.78-.78 2.05 0 2.83L4 21.41c.39.39.9.59 1.41.59.51 0 1.02-.2 1.41-.59l7.78-7.78 2.81-2.81c.8-.78.8-2.07 0-2.86zM5.41 20L4 18.59l7.72-7.72 1.47 1.35L5.41 20z\"/>\n",
              "  </svg>\n",
              "      </button>\n",
              "      \n",
              "  <style>\n",
              "    .colab-df-container {\n",
              "      display:flex;\n",
              "      flex-wrap:wrap;\n",
              "      gap: 12px;\n",
              "    }\n",
              "\n",
              "    .colab-df-convert {\n",
              "      background-color: #E8F0FE;\n",
              "      border: none;\n",
              "      border-radius: 50%;\n",
              "      cursor: pointer;\n",
              "      display: none;\n",
              "      fill: #1967D2;\n",
              "      height: 32px;\n",
              "      padding: 0 0 0 0;\n",
              "      width: 32px;\n",
              "    }\n",
              "\n",
              "    .colab-df-convert:hover {\n",
              "      background-color: #E2EBFA;\n",
              "      box-shadow: 0px 1px 2px rgba(60, 64, 67, 0.3), 0px 1px 3px 1px rgba(60, 64, 67, 0.15);\n",
              "      fill: #174EA6;\n",
              "    }\n",
              "\n",
              "    [theme=dark] .colab-df-convert {\n",
              "      background-color: #3B4455;\n",
              "      fill: #D2E3FC;\n",
              "    }\n",
              "\n",
              "    [theme=dark] .colab-df-convert:hover {\n",
              "      background-color: #434B5C;\n",
              "      box-shadow: 0px 1px 3px 1px rgba(0, 0, 0, 0.15);\n",
              "      filter: drop-shadow(0px 1px 2px rgba(0, 0, 0, 0.3));\n",
              "      fill: #FFFFFF;\n",
              "    }\n",
              "  </style>\n",
              "\n",
              "      <script>\n",
              "        const buttonEl =\n",
              "          document.querySelector('#df-adbbfcf3-f634-46bc-8b6f-6d2324f97b13 button.colab-df-convert');\n",
              "        buttonEl.style.display =\n",
              "          google.colab.kernel.accessAllowed ? 'block' : 'none';\n",
              "\n",
              "        async function convertToInteractive(key) {\n",
              "          const element = document.querySelector('#df-adbbfcf3-f634-46bc-8b6f-6d2324f97b13');\n",
              "          const dataTable =\n",
              "            await google.colab.kernel.invokeFunction('convertToInteractive',\n",
              "                                                     [key], {});\n",
              "          if (!dataTable) return;\n",
              "\n",
              "          const docLinkHtml = 'Like what you see? Visit the ' +\n",
              "            '<a target=\"_blank\" href=https://colab.research.google.com/notebooks/data_table.ipynb>data table notebook</a>'\n",
              "            + ' to learn more about interactive tables.';\n",
              "          element.innerHTML = '';\n",
              "          dataTable['output_type'] = 'display_data';\n",
              "          await google.colab.output.renderOutput(dataTable, element);\n",
              "          const docLink = document.createElement('div');\n",
              "          docLink.innerHTML = docLinkHtml;\n",
              "          element.appendChild(docLink);\n",
              "        }\n",
              "      </script>\n",
              "    </div>\n",
              "  </div>\n",
              "  "
            ]
          },
          "metadata": {},
          "execution_count": 28
        }
      ]
    },
    {
      "cell_type": "code",
      "source": [
        "y_train.head()"
      ],
      "metadata": {
        "colab": {
          "base_uri": "https://localhost:8080/"
        },
        "id": "QCEZw1m4fs7_",
        "outputId": "f473ce2e-40cf-4fc9-f69e-1de7765b1368"
      },
      "execution_count": null,
      "outputs": [
        {
          "output_type": "execute_result",
          "data": {
            "text/plain": [
              "16     1\n",
              "0      0\n",
              "20     1\n",
              "108    0\n",
              "88     1\n",
              "Name: FLOODS, dtype: int64"
            ]
          },
          "metadata": {},
          "execution_count": 29
        }
      ]
    },
    {
      "cell_type": "markdown",
      "source": [
        "LOGISTIC REGRESSION"
      ],
      "metadata": {
        "id": "h5aWKKxB9m66"
      }
    },
    {
      "cell_type": "code",
      "source": [
        "x_train_std = minmax.fit_transform(x_train)\n",
        "x_test_std = minmax.transform(x_test)\n",
        "from sklearn.model_selection import cross_val_score\n",
        "from sklearn.linear_model import LogisticRegression\n",
        "\n",
        "lr = LogisticRegression()\n",
        "lr_clf = lr.fit(x_train_std,y_train)\n",
        "\n"
      ],
      "metadata": {
        "id": "roHTM_GmgMpD"
      },
      "execution_count": null,
      "outputs": []
    },
    {
      "cell_type": "code",
      "source": [
        "y_predict = lr_clf.predict(x_test_std)\n",
        "print('Predicted chances of flood')\n",
        "print(y_predict)"
      ],
      "metadata": {
        "colab": {
          "base_uri": "https://localhost:8080/"
        },
        "id": "lC3B5dHugdTv",
        "outputId": "b44b5220-22c6-4aa5-92c8-019012b8921a"
      },
      "execution_count": null,
      "outputs": [
        {
          "output_type": "stream",
          "name": "stdout",
          "text": [
            "Predicted chances of flood\n",
            "[1 1 1 1 1 1 1 0 1 1 1 1 1 1 1 0 0 1 0 1 1 1 1]\n"
          ]
        }
      ]
    },
    {
      "cell_type": "code",
      "source": [
        "print('Actual chances of flood')\n",
        "print(y_test.values)"
      ],
      "metadata": {
        "colab": {
          "base_uri": "https://localhost:8080/"
        },
        "id": "mA_qWWQdghd1",
        "outputId": "e46147b7-f32c-4008-83b0-473c85a9c472"
      },
      "execution_count": null,
      "outputs": [
        {
          "output_type": "stream",
          "name": "stdout",
          "text": [
            "Actual chances of flood\n",
            "[1 1 1 1 1 1 1 0 1 1 0 1 1 1 1 0 0 1 0 1 1 1 1]\n"
          ]
        }
      ]
    },
    {
      "cell_type": "code",
      "source": [
        "from sklearn.metrics import accuracy_score,recall_score,roc_auc_score,confusion_matrix\n",
        "print(\"\\naccuracy score: %f\"%(accuracy_score(y_test,y_predict)*100))\n",
        "print(\"recall score: %f\"%(recall_score(y_test,y_predict)*100))\n"
      ],
      "metadata": {
        "colab": {
          "base_uri": "https://localhost:8080/"
        },
        "id": "CvokzNfagkNT",
        "outputId": "66c6c7d8-09c6-4acd-d1b7-96db603a4206"
      },
      "execution_count": null,
      "outputs": [
        {
          "output_type": "stream",
          "name": "stdout",
          "text": [
            "\n",
            "accuracy score: 95.652174\n",
            "recall score: 100.000000\n"
          ]
        }
      ]
    },
    {
      "cell_type": "code",
      "source": [],
      "metadata": {
        "id": "V2_NQnpogucV"
      },
      "execution_count": null,
      "outputs": []
    }
  ]
}